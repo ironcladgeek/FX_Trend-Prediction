{
 "cells": [
  {
   "cell_type": "code",
   "execution_count": null,
   "metadata": {
    "colab": {},
    "colab_type": "code",
    "id": "ANnVridg6W7f"
   },
   "outputs": [],
   "source": [
    "import numpy as np\n",
    "import pandas as pd\n",
    "import matplotlib.pyplot as plt\n",
    "\n",
    "import time\n",
    "import warnings\n",
    "warnings.filterwarnings(action='ignore', category=FutureWarning)\n",
    "\n",
    "%matplotlib inline\n",
    "plt.rcParams[\"figure.figsize\"] = (12,7)"
   ]
  },
  {
   "cell_type": "code",
   "execution_count": null,
   "metadata": {
    "colab": {},
    "colab_type": "code",
    "id": "1VAZGXnh7krU"
   },
   "outputs": [],
   "source": [
    "# Setting up the paths\n",
    "historical_data_path = './data/AUDUSD/AUDUSD_2008-01-01_2019-10-16.csv'\n",
    "model_path = '/content/drive/My Drive/Machine-Learning/Deep-Leraning_Learn/Time-Series-Analysis/audusd_trained_model.h5'\n",
    "model_checkpoint_path = '/content/drive/My Drive/Machine-Learning/Deep-Leraning_Learn/Time-Series-Analysis/audusd_best-model_epoch.{epoch:02d}-val_loss{val_loss:.5f}.h5'\n",
    "best_model_path = '/content/drive/My Drive/Machine-Learning/Deep-Leraning_Learn/Time-Series-Analysis/audusd_best-model_epoch.12-val_loss0.00044.h5'"
   ]
  },
  {
   "cell_type": "markdown",
   "metadata": {
    "colab_type": "text",
    "id": "m6MaEaGG7wvU"
   },
   "source": [
    "## Loading and exploring AUD/USD data"
   ]
  },
  {
   "cell_type": "code",
   "execution_count": 4,
   "metadata": {
    "colab": {
     "base_uri": "https://localhost:8080/",
     "height": 235
    },
    "colab_type": "code",
    "executionInfo": {
     "elapsed": 2790,
     "status": "ok",
     "timestamp": 1573816695279,
     "user": {
      "displayName": "Mohammad Reza Zerehpoosh",
      "photoUrl": "https://lh3.googleusercontent.com/a-/AAuE7mCIHt_7dMDRMiieX741C7Zjx4z8UrIoVCmcJxsThw=s64",
      "userId": "03345718987498507638"
     },
     "user_tz": -210
    },
    "id": "7lEkWZke7lAv",
    "outputId": "04f56349-13cf-41ba-bce3-25b201071cb7"
   },
   "outputs": [
    {
     "data": {
      "text/html": [
       "<div>\n",
       "<style scoped>\n",
       "    .dataframe tbody tr th:only-of-type {\n",
       "        vertical-align: middle;\n",
       "    }\n",
       "\n",
       "    .dataframe tbody tr th {\n",
       "        vertical-align: top;\n",
       "    }\n",
       "\n",
       "    .dataframe thead th {\n",
       "        text-align: right;\n",
       "    }\n",
       "</style>\n",
       "<table border=\"1\" class=\"dataframe\">\n",
       "  <thead>\n",
       "    <tr style=\"text-align: right;\">\n",
       "      <th></th>\n",
       "      <th>Price</th>\n",
       "      <th>Open</th>\n",
       "      <th>High</th>\n",
       "      <th>Low</th>\n",
       "      <th>Change %</th>\n",
       "    </tr>\n",
       "    <tr>\n",
       "      <th>Date</th>\n",
       "      <th></th>\n",
       "      <th></th>\n",
       "      <th></th>\n",
       "      <th></th>\n",
       "      <th></th>\n",
       "    </tr>\n",
       "  </thead>\n",
       "  <tbody>\n",
       "    <tr>\n",
       "      <th>2019-10-16</th>\n",
       "      <td>0.6758</td>\n",
       "      <td>0.6754</td>\n",
       "      <td>0.6767</td>\n",
       "      <td>0.6723</td>\n",
       "      <td>0.07%</td>\n",
       "    </tr>\n",
       "    <tr>\n",
       "      <th>2019-10-15</th>\n",
       "      <td>0.6753</td>\n",
       "      <td>0.6774</td>\n",
       "      <td>0.6789</td>\n",
       "      <td>0.6741</td>\n",
       "      <td>-0.32%</td>\n",
       "    </tr>\n",
       "    <tr>\n",
       "      <th>2019-10-14</th>\n",
       "      <td>0.6775</td>\n",
       "      <td>0.6776</td>\n",
       "      <td>0.6802</td>\n",
       "      <td>0.6749</td>\n",
       "      <td>-0.21%</td>\n",
       "    </tr>\n",
       "    <tr>\n",
       "      <th>2019-10-11</th>\n",
       "      <td>0.6789</td>\n",
       "      <td>0.6762</td>\n",
       "      <td>0.6812</td>\n",
       "      <td>0.6752</td>\n",
       "      <td>0.40%</td>\n",
       "    </tr>\n",
       "    <tr>\n",
       "      <th>2019-10-10</th>\n",
       "      <td>0.6762</td>\n",
       "      <td>0.6725</td>\n",
       "      <td>0.6774</td>\n",
       "      <td>0.6707</td>\n",
       "      <td>0.55%</td>\n",
       "    </tr>\n",
       "  </tbody>\n",
       "</table>\n",
       "</div>"
      ],
      "text/plain": [
       "             Price    Open    High     Low Change %\n",
       "Date                                               \n",
       "2019-10-16  0.6758  0.6754  0.6767  0.6723    0.07%\n",
       "2019-10-15  0.6753  0.6774  0.6789  0.6741   -0.32%\n",
       "2019-10-14  0.6775  0.6776  0.6802  0.6749   -0.21%\n",
       "2019-10-11  0.6789  0.6762  0.6812  0.6752    0.40%\n",
       "2019-10-10  0.6762  0.6725  0.6774  0.6707    0.55%"
      ]
     },
     "execution_count": 4,
     "metadata": {
      "tags": []
     },
     "output_type": "execute_result"
    }
   ],
   "source": [
    "data = pd.read_csv(historical_data_path, parse_dates=True, index_col='Date')\n",
    "data.head()"
   ]
  },
  {
   "cell_type": "code",
   "execution_count": 5,
   "metadata": {
    "colab": {
     "base_uri": "https://localhost:8080/",
     "height": 235
    },
    "colab_type": "code",
    "executionInfo": {
     "elapsed": 1533,
     "status": "ok",
     "timestamp": 1573816698008,
     "user": {
      "displayName": "Mohammad Reza Zerehpoosh",
      "photoUrl": "https://lh3.googleusercontent.com/a-/AAuE7mCIHt_7dMDRMiieX741C7Zjx4z8UrIoVCmcJxsThw=s64",
      "userId": "03345718987498507638"
     },
     "user_tz": -210
    },
    "id": "bHJxAX7n7lLL",
    "outputId": "25e4093e-c4b1-4851-f708-68c9ff7b962c"
   },
   "outputs": [
    {
     "data": {
      "text/html": [
       "<div>\n",
       "<style scoped>\n",
       "    .dataframe tbody tr th:only-of-type {\n",
       "        vertical-align: middle;\n",
       "    }\n",
       "\n",
       "    .dataframe tbody tr th {\n",
       "        vertical-align: top;\n",
       "    }\n",
       "\n",
       "    .dataframe thead th {\n",
       "        text-align: right;\n",
       "    }\n",
       "</style>\n",
       "<table border=\"1\" class=\"dataframe\">\n",
       "  <thead>\n",
       "    <tr style=\"text-align: right;\">\n",
       "      <th></th>\n",
       "      <th>Price</th>\n",
       "      <th>Open</th>\n",
       "      <th>High</th>\n",
       "      <th>Low</th>\n",
       "      <th>Change %</th>\n",
       "    </tr>\n",
       "    <tr>\n",
       "      <th>Date</th>\n",
       "      <th></th>\n",
       "      <th></th>\n",
       "      <th></th>\n",
       "      <th></th>\n",
       "      <th></th>\n",
       "    </tr>\n",
       "  </thead>\n",
       "  <tbody>\n",
       "    <tr>\n",
       "      <th>2008-01-01</th>\n",
       "      <td>0.8763</td>\n",
       "      <td>0.8743</td>\n",
       "      <td>0.8789</td>\n",
       "      <td>0.8735</td>\n",
       "      <td>0.05%</td>\n",
       "    </tr>\n",
       "    <tr>\n",
       "      <th>2008-01-02</th>\n",
       "      <td>0.8833</td>\n",
       "      <td>0.8760</td>\n",
       "      <td>0.8838</td>\n",
       "      <td>0.8756</td>\n",
       "      <td>0.80%</td>\n",
       "    </tr>\n",
       "    <tr>\n",
       "      <th>2008-01-03</th>\n",
       "      <td>0.8803</td>\n",
       "      <td>0.8836</td>\n",
       "      <td>0.8853</td>\n",
       "      <td>0.8785</td>\n",
       "      <td>-0.34%</td>\n",
       "    </tr>\n",
       "    <tr>\n",
       "      <th>2008-01-04</th>\n",
       "      <td>0.8711</td>\n",
       "      <td>0.8798</td>\n",
       "      <td>0.8838</td>\n",
       "      <td>0.8698</td>\n",
       "      <td>-1.05%</td>\n",
       "    </tr>\n",
       "    <tr>\n",
       "      <th>2008-01-07</th>\n",
       "      <td>0.8711</td>\n",
       "      <td>0.8714</td>\n",
       "      <td>0.8749</td>\n",
       "      <td>0.8681</td>\n",
       "      <td>0.00%</td>\n",
       "    </tr>\n",
       "  </tbody>\n",
       "</table>\n",
       "</div>"
      ],
      "text/plain": [
       "             Price    Open    High     Low Change %\n",
       "Date                                               \n",
       "2008-01-01  0.8763  0.8743  0.8789  0.8735    0.05%\n",
       "2008-01-02  0.8833  0.8760  0.8838  0.8756    0.80%\n",
       "2008-01-03  0.8803  0.8836  0.8853  0.8785   -0.34%\n",
       "2008-01-04  0.8711  0.8798  0.8838  0.8698   -1.05%\n",
       "2008-01-07  0.8711  0.8714  0.8749  0.8681    0.00%"
      ]
     },
     "execution_count": 5,
     "metadata": {
      "tags": []
     },
     "output_type": "execute_result"
    }
   ],
   "source": [
    "# reversing the order of dataframe's rows\n",
    "data = data[::-1]\n",
    "data.head()"
   ]
  },
  {
   "cell_type": "code",
   "execution_count": 6,
   "metadata": {
    "colab": {
     "base_uri": "https://localhost:8080/",
     "height": 34
    },
    "colab_type": "code",
    "executionInfo": {
     "elapsed": 1421,
     "status": "ok",
     "timestamp": 1573816701820,
     "user": {
      "displayName": "Mohammad Reza Zerehpoosh",
      "photoUrl": "https://lh3.googleusercontent.com/a-/AAuE7mCIHt_7dMDRMiieX741C7Zjx4z8UrIoVCmcJxsThw=s64",
      "userId": "03345718987498507638"
     },
     "user_tz": -210
    },
    "id": "cAKVpbgbIDyS",
    "outputId": "97120942-521d-4f78-ceb9-dd13f02c26fd"
   },
   "outputs": [
    {
     "data": {
      "text/plain": [
       "(3077, 5)"
      ]
     },
     "execution_count": 6,
     "metadata": {
      "tags": []
     },
     "output_type": "execute_result"
    }
   ],
   "source": [
    "data.shape"
   ]
  },
  {
   "cell_type": "code",
   "execution_count": 7,
   "metadata": {
    "colab": {
     "base_uri": "https://localhost:8080/",
     "height": 442
    },
    "colab_type": "code",
    "executionInfo": {
     "elapsed": 2345,
     "status": "ok",
     "timestamp": 1573816707874,
     "user": {
      "displayName": "Mohammad Reza Zerehpoosh",
      "photoUrl": "https://lh3.googleusercontent.com/a-/AAuE7mCIHt_7dMDRMiieX741C7Zjx4z8UrIoVCmcJxsThw=s64",
      "userId": "03345718987498507638"
     },
     "user_tz": -210
    },
    "id": "FOMLB9Tl7lOF",
    "outputId": "a7d4991c-b67c-40e8-c715-cb6fba5f2049"
   },
   "outputs": [
    {
     "data": {
      "image/png": "[encoded data removed]",
      "text/plain": [
       "<Figure size 864x504 with 1 Axes>"
      ]
     },
     "metadata": {
      "tags": []
     },
     "output_type": "display_data"
    }
   ],
   "source": [
    "# plotting the AUD/USD Chart\n",
    "plt.plot(data['Price'], label='AUD/USD', color='blue')\n",
    "plt.xlabel('Date')\n",
    "plt.ylabel('Price')\n",
    "plt.legend()\n",
    "plt.show()"
   ]
  },
  {
   "cell_type": "markdown",
   "metadata": {
    "colab_type": "text",
    "id": "tCT6D3BpC1Uo"
   },
   "source": [
    "## Data Pre-Processing"
   ]
  },
  {
   "cell_type": "code",
   "execution_count": 8,
   "metadata": {
    "colab": {
     "base_uri": "https://localhost:8080/",
     "height": 153
    },
    "colab_type": "code",
    "executionInfo": {
     "elapsed": 1525,
     "status": "ok",
     "timestamp": 1573816724470,
     "user": {
      "displayName": "Mohammad Reza Zerehpoosh",
      "photoUrl": "https://lh3.googleusercontent.com/a-/AAuE7mCIHt_7dMDRMiieX741C7Zjx4z8UrIoVCmcJxsThw=s64",
      "userId": "03345718987498507638"
     },
     "user_tz": -210
    },
    "id": "bIPnkm6C7lRN",
    "outputId": "bccb4f00-8c88-42c4-cf2a-2a2f97f6bf5e"
   },
   "outputs": [
    {
     "name": "stdout",
     "output_type": "stream",
     "text": [
      "(2934, 1)\n"
     ]
    },
    {
     "data": {
      "text/plain": [
       "array([[0.8763],\n",
       "       [0.8833],\n",
       "       [0.8803],\n",
       "       ...,\n",
       "       [0.7085],\n",
       "       [0.7076],\n",
       "       [0.7097]])"
      ]
     },
     "execution_count": 8,
     "metadata": {
      "tags": []
     },
     "output_type": "execute_result"
    }
   ],
   "source": [
    "# Storing 'Price' column into a numpy array\n",
    "# Model will be trained only based on this feature (for now ...)\n",
    "train_set = data.loc['2008-01-01':'2019-03-31', 'Price'].values\n",
    "train_set = np.reshape(train_set, (train_set.shape[0], 1))\n",
    "data_last_trained_row_index = train_set.shape[0] - 1\n",
    "print(train_set.shape)\n",
    "train_set"
   ]
  },
  {
   "cell_type": "code",
   "execution_count": 9,
   "metadata": {
    "colab": {
     "base_uri": "https://localhost:8080/",
     "height": 408
    },
    "colab_type": "code",
    "executionInfo": {
     "elapsed": 1697,
     "status": "ok",
     "timestamp": 1573816729849,
     "user": {
      "displayName": "Mohammad Reza Zerehpoosh",
      "photoUrl": "https://lh3.googleusercontent.com/a-/AAuE7mCIHt_7dMDRMiieX741C7Zjx4z8UrIoVCmcJxsThw=s64",
      "userId": "03345718987498507638"
     },
     "user_tz": -210
    },
    "id": "93azCH6AMgyO",
    "outputId": "7370e7ca-1565-44b8-ae32-a984138add7c"
   },
   "outputs": [
    {
     "name": "stdout",
     "output_type": "stream",
     "text": [
      "(22, 1)\n"
     ]
    },
    {
     "data": {
      "text/plain": [
       "array([[0.7112],\n",
       "       [0.7073],\n",
       "       [0.7113],\n",
       "       [0.7112],\n",
       "       [0.7106],\n",
       "       [0.7127],\n",
       "       [0.7123],\n",
       "       [0.7173],\n",
       "       [0.7124],\n",
       "       [0.7173],\n",
       "       [0.7174],\n",
       "       [0.7176],\n",
       "       [0.7179],\n",
       "       [0.7151],\n",
       "       [0.7153],\n",
       "       [0.7134],\n",
       "       [0.7102],\n",
       "       [0.7016],\n",
       "       [0.7015],\n",
       "       [0.704 ],\n",
       "       [0.7057],\n",
       "       [0.7049]])"
      ]
     },
     "execution_count": 9,
     "metadata": {
      "tags": []
     },
     "output_type": "execute_result"
    }
   ],
   "source": [
    "test_set = data.loc['2019-04-01':'2019-04-30', 'Price'].values\n",
    "test_set = np.reshape(test_set, (test_set.shape[0], 1))\n",
    "print(test_set.shape)\n",
    "test_set"
   ]
  },
  {
   "cell_type": "code",
   "execution_count": 10,
   "metadata": {
    "colab": {
     "base_uri": "https://localhost:8080/",
     "height": 136
    },
    "colab_type": "code",
    "executionInfo": {
     "elapsed": 1805,
     "status": "ok",
     "timestamp": 1573816744934,
     "user": {
      "displayName": "Mohammad Reza Zerehpoosh",
      "photoUrl": "https://lh3.googleusercontent.com/a-/AAuE7mCIHt_7dMDRMiieX741C7Zjx4z8UrIoVCmcJxsThw=s64",
      "userId": "03345718987498507638"
     },
     "user_tz": -210
    },
    "id": "SdajjJ9k7lWN",
    "outputId": "8d82c44c-cfe6-4b97-8095-7717a82b153f"
   },
   "outputs": [
    {
     "data": {
      "text/plain": [
       "array([[0.54772364],\n",
       "       [0.56170128],\n",
       "       [0.55571086],\n",
       "       ...,\n",
       "       [0.21265974],\n",
       "       [0.21086262],\n",
       "       [0.21505591]])"
      ]
     },
     "execution_count": 10,
     "metadata": {
      "tags": []
     },
     "output_type": "execute_result"
    }
   ],
   "source": [
    "# Feature Scaling\n",
    "from sklearn.preprocessing import MinMaxScaler\n",
    "sc = MinMaxScaler(feature_range=(0, 1))\n",
    "train_set = sc.fit_transform(train_set)\n",
    "test_set_scaled = sc.transform(test_set)\n",
    "train_set"
   ]
  },
  {
   "cell_type": "code",
   "execution_count": 11,
   "metadata": {
    "colab": {
     "base_uri": "https://localhost:8080/",
     "height": 34
    },
    "colab_type": "code",
    "executionInfo": {
     "elapsed": 1515,
     "status": "ok",
     "timestamp": 1573816748089,
     "user": {
      "displayName": "Mohammad Reza Zerehpoosh",
      "photoUrl": "https://lh3.googleusercontent.com/a-/AAuE7mCIHt_7dMDRMiieX741C7Zjx4z8UrIoVCmcJxsThw=s64",
      "userId": "03345718987498507638"
     },
     "user_tz": -210
    },
    "id": "aV8hV8iPWiMQ",
    "outputId": "4bbded99-4fa8-4bce-dc92-c75abeec1335"
   },
   "outputs": [
    {
     "data": {
      "text/plain": [
       "(2934, 1)"
      ]
     },
     "execution_count": 11,
     "metadata": {
      "tags": []
     },
     "output_type": "execute_result"
    }
   ],
   "source": [
    "train_set.shape"
   ]
  },
  {
   "cell_type": "code",
   "execution_count": null,
   "metadata": {
    "colab": {},
    "colab_type": "code",
    "id": "pAC2685G7lYw"
   },
   "outputs": [],
   "source": [
    "# Creating a data structure with 80 timesteps and 1 output\n",
    "timesteps = 80\n",
    "X_train = []\n",
    "y_train = []\n",
    "\n",
    "for i in range(timesteps, train_set.shape[0]):\n",
    "  X_train.append(train_set[i-timesteps:i, 0])\n",
    "  y_train.append(train_set[i, 0])\n",
    "\n",
    "X_train, y_train = np.array(X_train), np.array(y_train)"
   ]
  },
  {
   "cell_type": "code",
   "execution_count": 13,
   "metadata": {
    "colab": {
     "base_uri": "https://localhost:8080/",
     "height": 51
    },
    "colab_type": "code",
    "executionInfo": {
     "elapsed": 1095,
     "status": "ok",
     "timestamp": 1573816753854,
     "user": {
      "displayName": "Mohammad Reza Zerehpoosh",
      "photoUrl": "https://lh3.googleusercontent.com/a-/AAuE7mCIHt_7dMDRMiieX741C7Zjx4z8UrIoVCmcJxsThw=s64",
      "userId": "03345718987498507638"
     },
     "user_tz": -210
    },
    "id": "lRiqtklh7lbv",
    "outputId": "efab7ebc-3a01-4c4b-94a0-eb2d529f2fe7"
   },
   "outputs": [
    {
     "name": "stdout",
     "output_type": "stream",
     "text": [
      "(2854, 80)\n",
      "(2854, 80, 1)\n"
     ]
    }
   ],
   "source": [
    "# Reshaping X_train into a 3D array \n",
    "# (keras require 3D shaped array for LSTMs)\n",
    "print(X_train.shape)\n",
    "X_train = np.reshape(X_train, (X_train.shape[0], X_train.shape[1], 1))\n",
    "print(X_train.shape)"
   ]
  },
  {
   "cell_type": "markdown",
   "metadata": {
    "colab_type": "text",
    "id": "OHQwEPlrLQEn"
   },
   "source": [
    "## Building the RNN"
   ]
  },
  {
   "cell_type": "code",
   "execution_count": null,
   "metadata": {
    "colab": {},
    "colab_type": "code",
    "id": "ZF7Uqpkt7lfD"
   },
   "outputs": [],
   "source": [
    "# importing libraries\n",
    "from keras.models import Sequential\n",
    "from keras.layers import LSTM, Dropout, Dense\n",
    "#from keras.wrappers.scikit_learn import KerasRegressor\n",
    "#from sklearn.model_selection import GridSearchCV"
   ]
  },
  {
   "cell_type": "code",
   "execution_count": null,
   "metadata": {
    "colab": {},
    "colab_type": "code",
    "id": "8vLiIO36W9U4"
   },
   "outputs": [],
   "source": [
    "def build_lstm_regressor(output_activation, optimizer, dropout_rate=0.2):\n",
    "  regressor = Sequential()\n",
    "  regressor.add(LSTM(units=60, activation='tanh', return_sequences=True, input_shape=(X_train.shape[1], 1)))\n",
    "  regressor.add(Dropout(rate=dropout_rate))\n",
    "\n",
    "  regressor.add(LSTM(units=60, activation='tanh', return_sequences=True))\n",
    "  regressor.add(Dropout(rate=dropout_rate))\n",
    "\n",
    "  regressor.add(LSTM(units=60, activation='tanh', return_sequences=True))\n",
    "  regressor.add(Dropout(rate=dropout_rate))\n",
    "\n",
    "  regressor.add(LSTM(units=60, activation='tanh', return_sequences=True))\n",
    "  regressor.add(Dropout(rate=dropout_rate))\n",
    "\n",
    "  regressor.add(LSTM(units=60, activation='tanh', return_sequences=True))\n",
    "  regressor.add(Dropout(rate=dropout_rate))\n",
    "\n",
    "  regressor.add(LSTM(units=60, activation='tanh', return_sequences=False))\n",
    "  regressor.add(Dropout(rate=dropout_rate))\n",
    "\n",
    "  regressor.add(Dense(units=1, activation=output_activation))\n",
    "\n",
    "  regressor.compile(optimizer=optimizer, loss='mean_squared_error')\n",
    "\n",
    "  return regressor"
   ]
  },
  {
   "cell_type": "code",
   "execution_count": null,
   "metadata": {
    "colab": {},
    "colab_type": "code",
    "id": "GIA6WhnyZzI4"
   },
   "outputs": [],
   "source": [
    "# regressor = KerasRegressor(build_fn=build_lstm_regressor, epochs=110)\n",
    "regressor = build_lstm_regressor(output_activation='sigmoid', optimizer='adam', dropout_rate=0.2)"
   ]
  },
  {
   "cell_type": "markdown",
   "metadata": {
    "colab_type": "text",
    "id": "iIkFtCoakUc8"
   },
   "source": [
    "### GridSearchCV Sction"
   ]
  },
  {
   "cell_type": "code",
   "execution_count": null,
   "metadata": {
    "colab": {},
    "colab_type": "code",
    "id": "Do6QDGEYZzF4"
   },
   "outputs": [],
   "source": [
    "params = {\n",
    "    'batch_size': [25, 32],\n",
    "    'output_activation': ['sigmoid', None],\n",
    "    'optimizer': ['adam', 'rmsprop']\n",
    "}"
   ]
  },
  {
   "cell_type": "code",
   "execution_count": null,
   "metadata": {
    "colab": {},
    "colab_type": "code",
    "id": "OuBt3YanajBf"
   },
   "outputs": [],
   "source": [
    "gs = GridSearchCV(estimator=regressor, param_grid=params, scoring='neg_mean_squared_error', cv=10)"
   ]
  },
  {
   "cell_type": "code",
   "execution_count": null,
   "metadata": {
    "colab": {
     "base_uri": "https://localhost:8080/",
     "height": 1000
    },
    "colab_type": "code",
    "executionInfo": {
     "elapsed": 34375761,
     "status": "error",
     "timestamp": 1573803838913,
     "user": {
      "displayName": "Mohammad Reza Zerehpoosh",
      "photoUrl": "https://lh3.googleusercontent.com/a-/AAuE7mCIHt_7dMDRMiieX741C7Zjx4z8UrIoVCmcJxsThw=s64",
      "userId": "03345718987498507638"
     },
     "user_tz": -210
    },
    "id": "EKGF8ewKai-7",
    "outputId": "c92696c9-d6b8-457b-e6c7-09155033c75f"
   },
   "outputs": [],
   "source": [
    "start_time = time.time()\n",
    "gs_fit = gs.fit(X_train, y_train)\n",
    "end_time = time.time()\n",
    "gs_time = (start_time - end_time)\n",
    "best_parameters = gs.best_params_\n",
    "best_accuracy = gs.best_score_\n",
    "print(gs_time)"
   ]
  },
  {
   "cell_type": "markdown",
   "metadata": {
    "colab_type": "text",
    "id": "B-KtCKMckanR"
   },
   "source": [
    "### Model fitting section"
   ]
  },
  {
   "cell_type": "code",
   "execution_count": null,
   "metadata": {
    "colab": {},
    "colab_type": "code",
    "id": "rPrYH_bVai8L"
   },
   "outputs": [],
   "source": [
    "from keras.callbacks import EarlyStopping, ModelCheckpoint"
   ]
  },
  {
   "cell_type": "code",
   "execution_count": null,
   "metadata": {
    "colab": {},
    "colab_type": "code",
    "id": "Z_44SqTgai5m"
   },
   "outputs": [],
   "source": [
    "# Building 'EarlyStopping' callback to stop training when model is not improving\n",
    "# Building 'ModelCheckpoint' callback to save the best model during training time\n",
    "early_stop = EarlyStopping(monitor='val_loss', mode='min', verbose=1, patience=50, min_delta=0.00003)\n",
    "model_checkpoint = ModelCheckpoint(filepath=model_checkpoint_path, monitor='val_loss', mode='min', save_best_only=True, verbose=1)\n",
    "callbacks = [early_stop, model_checkpoint]"
   ]
  },
  {
   "cell_type": "code",
   "execution_count": null,
   "metadata": {
    "colab": {},
    "colab_type": "code",
    "id": "EpOuQVv3mHIM"
   },
   "outputs": [],
   "source": [
    "\"\"\"\n",
    "print(X_train.shape)\n",
    "print(y_train.shape)\n",
    "print(X_train[0])\n",
    "print(X_train[1])\n",
    "print(y_train[0])\n",
    "\"\"\""
   ]
  },
  {
   "cell_type": "code",
   "execution_count": null,
   "metadata": {
    "colab": {
     "base_uri": "https://localhost:8080/",
     "height": 1000
    },
    "colab_type": "code",
    "executionInfo": {
     "elapsed": 8026865,
     "status": "ok",
     "timestamp": 1573824944792,
     "user": {
      "displayName": "Mohammad Reza Zerehpoosh",
      "photoUrl": "https://lh3.googleusercontent.com/a-/AAuE7mCIHt_7dMDRMiieX741C7Zjx4z8UrIoVCmcJxsThw=s64",
      "userId": "03345718987498507638"
     },
     "user_tz": -210
    },
    "id": "BNMTt5FE7l_O",
    "outputId": "b2d31898-58ca-49b3-ff63-2c855a3ee205"
   },
   "outputs": [],
   "source": [
    "# Fiiting the model and recording the time\n",
    "start_time = time.time()\n",
    "regressor.fit(x=X_train, y=y_train, validation_split=0.2, epochs=250, batch_size=25, callbacks=callbacks)\n",
    "end_time = time.time()\n",
    "fit_time = (start_time - end_time)\n",
    "print(fit_time)"
   ]
  },
  {
   "cell_type": "code",
   "execution_count": null,
   "metadata": {
    "colab": {},
    "colab_type": "code",
    "id": "D44NGcWWhysC"
   },
   "outputs": [],
   "source": [
    "# Save the trained model\n",
    "regressor.save(model_path)"
   ]
  },
  {
   "cell_type": "code",
   "execution_count": null,
   "metadata": {
    "colab": {},
    "colab_type": "code",
    "id": "pBaJMyCXRmWC"
   },
   "outputs": [],
   "source": [
    "# Load the trained model\n",
    "from keras.models import load_model\n",
    "regressor = load_model(model_path)"
   ]
  },
  {
   "cell_type": "code",
   "execution_count": 22,
   "metadata": {
    "colab": {
     "base_uri": "https://localhost:8080/",
     "height": 34
    },
    "colab_type": "code",
    "executionInfo": {
     "elapsed": 2617,
     "status": "ok",
     "timestamp": 1573825915002,
     "user": {
      "displayName": "Mohammad Reza Zerehpoosh",
      "photoUrl": "https://lh3.googleusercontent.com/a-/AAuE7mCIHt_7dMDRMiieX741C7Zjx4z8UrIoVCmcJxsThw=s64",
      "userId": "03345718987498507638"
     },
     "user_tz": -210
    },
    "id": "p6F28TbVRmTO",
    "outputId": "6c376e0f-af3d-4949-a9b3-fda7a7458adf"
   },
   "outputs": [
    {
     "data": {
      "text/plain": [
       "keras.engine.sequential.Sequential"
      ]
     },
     "execution_count": 22,
     "metadata": {
      "tags": []
     },
     "output_type": "execute_result"
    }
   ],
   "source": [
    "type(regressor)"
   ]
  },
  {
   "cell_type": "markdown",
   "metadata": {
    "colab_type": "text",
    "id": "BXLYiEqhSh1y"
   },
   "source": [
    "## Making the predictions"
   ]
  },
  {
   "cell_type": "code",
   "execution_count": 23,
   "metadata": {
    "colab": {
     "base_uri": "https://localhost:8080/",
     "height": 450
    },
    "colab_type": "code",
    "executionInfo": {
     "elapsed": 3050,
     "status": "ok",
     "timestamp": 1573825923287,
     "user": {
      "displayName": "Mohammad Reza Zerehpoosh",
      "photoUrl": "https://lh3.googleusercontent.com/a-/AAuE7mCIHt_7dMDRMiieX741C7Zjx4z8UrIoVCmcJxsThw=s64",
      "userId": "03345718987498507638"
     },
     "user_tz": -210
    },
    "id": "xvnW2pbBRmO3",
    "outputId": "5bf40b09-e9e9-44e8-d485-fae4b8bc61a3"
   },
   "outputs": [
    {
     "data": {
      "text/html": [
       "<div>\n",
       "<style scoped>\n",
       "    .dataframe tbody tr th:only-of-type {\n",
       "        vertical-align: middle;\n",
       "    }\n",
       "\n",
       "    .dataframe tbody tr th {\n",
       "        vertical-align: top;\n",
       "    }\n",
       "\n",
       "    .dataframe thead th {\n",
       "        text-align: right;\n",
       "    }\n",
       "</style>\n",
       "<table border=\"1\" class=\"dataframe\">\n",
       "  <thead>\n",
       "    <tr style=\"text-align: right;\">\n",
       "      <th></th>\n",
       "      <th>Price</th>\n",
       "      <th>Open</th>\n",
       "      <th>High</th>\n",
       "      <th>Low</th>\n",
       "      <th>Change %</th>\n",
       "    </tr>\n",
       "    <tr>\n",
       "      <th>Date</th>\n",
       "      <th></th>\n",
       "      <th></th>\n",
       "      <th></th>\n",
       "      <th></th>\n",
       "      <th></th>\n",
       "    </tr>\n",
       "  </thead>\n",
       "  <tbody>\n",
       "    <tr>\n",
       "      <th>2018-12-10</th>\n",
       "      <td>0.7190</td>\n",
       "      <td>0.7193</td>\n",
       "      <td>0.7228</td>\n",
       "      <td>0.7166</td>\n",
       "      <td>-0.14%</td>\n",
       "    </tr>\n",
       "    <tr>\n",
       "      <th>2018-12-11</th>\n",
       "      <td>0.7207</td>\n",
       "      <td>0.7189</td>\n",
       "      <td>0.7225</td>\n",
       "      <td>0.7183</td>\n",
       "      <td>0.24%</td>\n",
       "    </tr>\n",
       "    <tr>\n",
       "      <th>2018-12-12</th>\n",
       "      <td>0.7221</td>\n",
       "      <td>0.7208</td>\n",
       "      <td>0.7240</td>\n",
       "      <td>0.7198</td>\n",
       "      <td>0.19%</td>\n",
       "    </tr>\n",
       "    <tr>\n",
       "      <th>2018-12-13</th>\n",
       "      <td>0.7227</td>\n",
       "      <td>0.7220</td>\n",
       "      <td>0.7248</td>\n",
       "      <td>0.7210</td>\n",
       "      <td>0.08%</td>\n",
       "    </tr>\n",
       "    <tr>\n",
       "      <th>2018-12-14</th>\n",
       "      <td>0.7177</td>\n",
       "      <td>0.7227</td>\n",
       "      <td>0.7228</td>\n",
       "      <td>0.7149</td>\n",
       "      <td>-0.69%</td>\n",
       "    </tr>\n",
       "    <tr>\n",
       "      <th>...</th>\n",
       "      <td>...</td>\n",
       "      <td>...</td>\n",
       "      <td>...</td>\n",
       "      <td>...</td>\n",
       "      <td>...</td>\n",
       "    </tr>\n",
       "    <tr>\n",
       "      <th>2019-03-25</th>\n",
       "      <td>0.7113</td>\n",
       "      <td>0.7077</td>\n",
       "      <td>0.7117</td>\n",
       "      <td>0.7065</td>\n",
       "      <td>0.41%</td>\n",
       "    </tr>\n",
       "    <tr>\n",
       "      <th>2019-03-26</th>\n",
       "      <td>0.7135</td>\n",
       "      <td>0.7110</td>\n",
       "      <td>0.7147</td>\n",
       "      <td>0.7105</td>\n",
       "      <td>0.31%</td>\n",
       "    </tr>\n",
       "    <tr>\n",
       "      <th>2019-03-27</th>\n",
       "      <td>0.7085</td>\n",
       "      <td>0.7133</td>\n",
       "      <td>0.7143</td>\n",
       "      <td>0.7066</td>\n",
       "      <td>-0.70%</td>\n",
       "    </tr>\n",
       "    <tr>\n",
       "      <th>2019-03-28</th>\n",
       "      <td>0.7076</td>\n",
       "      <td>0.7084</td>\n",
       "      <td>0.7107</td>\n",
       "      <td>0.7063</td>\n",
       "      <td>-0.13%</td>\n",
       "    </tr>\n",
       "    <tr>\n",
       "      <th>2019-03-29</th>\n",
       "      <td>0.7097</td>\n",
       "      <td>0.7078</td>\n",
       "      <td>0.7107</td>\n",
       "      <td>0.7073</td>\n",
       "      <td>0.30%</td>\n",
       "    </tr>\n",
       "  </tbody>\n",
       "</table>\n",
       "<p>80 rows × 5 columns</p>\n",
       "</div>"
      ],
      "text/plain": [
       "             Price    Open    High     Low Change %\n",
       "Date                                               \n",
       "2018-12-10  0.7190  0.7193  0.7228  0.7166   -0.14%\n",
       "2018-12-11  0.7207  0.7189  0.7225  0.7183    0.24%\n",
       "2018-12-12  0.7221  0.7208  0.7240  0.7198    0.19%\n",
       "2018-12-13  0.7227  0.7220  0.7248  0.7210    0.08%\n",
       "2018-12-14  0.7177  0.7227  0.7228  0.7149   -0.69%\n",
       "...            ...     ...     ...     ...      ...\n",
       "2019-03-25  0.7113  0.7077  0.7117  0.7065    0.41%\n",
       "2019-03-26  0.7135  0.7110  0.7147  0.7105    0.31%\n",
       "2019-03-27  0.7085  0.7133  0.7143  0.7066   -0.70%\n",
       "2019-03-28  0.7076  0.7084  0.7107  0.7063   -0.13%\n",
       "2019-03-29  0.7097  0.7078  0.7107  0.7073    0.30%\n",
       "\n",
       "[80 rows x 5 columns]"
      ]
     },
     "execution_count": 23,
     "metadata": {
      "tags": []
     },
     "output_type": "execute_result"
    }
   ],
   "source": [
    "uband = data_last_trained_row_index + 1\n",
    "lband = uband - timesteps\n",
    "\n",
    "data.iloc[lband:uband, :]"
   ]
  },
  {
   "cell_type": "code",
   "execution_count": 27,
   "metadata": {
    "colab": {
     "base_uri": "https://localhost:8080/",
     "height": 187
    },
    "colab_type": "code",
    "executionInfo": {
     "elapsed": 1482,
     "status": "ok",
     "timestamp": 1573826025107,
     "user": {
      "displayName": "Mohammad Reza Zerehpoosh",
      "photoUrl": "https://lh3.googleusercontent.com/a-/AAuE7mCIHt_7dMDRMiieX741C7Zjx4z8UrIoVCmcJxsThw=s64",
      "userId": "03345718987498507638"
     },
     "user_tz": -210
    },
    "id": "YNULZHF5VoYl",
    "outputId": "fa889a67-a268-4d96-aca0-884bdad42128"
   },
   "outputs": [
    {
     "data": {
      "text/plain": [
       "array([0.719 , 0.7207, 0.7221, 0.7227, 0.7177, 0.7175, 0.7183, 0.7108,\n",
       "       0.7109, 0.7034, 0.7062, 0.7037, 0.7067, 0.7036, 0.7044, 0.7052,\n",
       "       0.7053, 0.6985, 0.7006, 0.7113, 0.7148, 0.7141, 0.7171, 0.7186,\n",
       "       0.7216, 0.7196, 0.7201, 0.7168, 0.7194, 0.7168, 0.7158, 0.7123,\n",
       "       0.7142, 0.7095, 0.7183, 0.7166, 0.7156, 0.7247, 0.7273, 0.7251,\n",
       "       0.7226, 0.7235, 0.7104, 0.7101, 0.709 , 0.7062, 0.7095, 0.7089,\n",
       "       0.7106, 0.714 , 0.7131, 0.7166, 0.7164, 0.7095, 0.7127, 0.7167,\n",
       "       0.7188, 0.7139, 0.7095, 0.7083, 0.7093, 0.7084, 0.7033, 0.7016,\n",
       "       0.7047, 0.707 , 0.7081, 0.7094, 0.7065, 0.7089, 0.7105, 0.7088,\n",
       "       0.7116, 0.7112, 0.7084, 0.7113, 0.7135, 0.7085, 0.7076, 0.7097])"
      ]
     },
     "execution_count": 27,
     "metadata": {
      "tags": []
     },
     "output_type": "execute_result"
    }
   ],
   "source": [
    "# building inputs\n",
    "inputs = data.iloc[lband:uband, 0].values\n",
    "inputs"
   ]
  },
  {
   "cell_type": "code",
   "execution_count": 28,
   "metadata": {
    "colab": {
     "base_uri": "https://localhost:8080/",
     "height": 34
    },
    "colab_type": "code",
    "executionInfo": {
     "elapsed": 1504,
     "status": "ok",
     "timestamp": 1573826051707,
     "user": {
      "displayName": "Mohammad Reza Zerehpoosh",
      "photoUrl": "https://lh3.googleusercontent.com/a-/AAuE7mCIHt_7dMDRMiieX741C7Zjx4z8UrIoVCmcJxsThw=s64",
      "userId": "03345718987498507638"
     },
     "user_tz": -210
    },
    "id": "hKm_oIGCRmRd",
    "outputId": "a245c564-d41f-4dca-e105-00f45bd7740f"
   },
   "outputs": [
    {
     "name": "stdout",
     "output_type": "stream",
     "text": [
      "(80, 1)\n"
     ]
    }
   ],
   "source": [
    "# reshaping and scaling the inputs\n",
    "inputs = inputs.reshape(-1, 1)\n",
    "inputs = sc.transform(inputs)\n",
    "print(inputs.shape)"
   ]
  },
  {
   "cell_type": "code",
   "execution_count": 31,
   "metadata": {
    "colab": {
     "base_uri": "https://localhost:8080/",
     "height": 34
    },
    "colab_type": "code",
    "executionInfo": {
     "elapsed": 1705,
     "status": "ok",
     "timestamp": 1573826121368,
     "user": {
      "displayName": "Mohammad Reza Zerehpoosh",
      "photoUrl": "https://lh3.googleusercontent.com/a-/AAuE7mCIHt_7dMDRMiieX741C7Zjx4z8UrIoVCmcJxsThw=s64",
      "userId": "03345718987498507638"
     },
     "user_tz": -210
    },
    "id": "t37_Ns7tTlIG",
    "outputId": "0e9e57dd-9085-4819-92c3-da36c1023d9f"
   },
   "outputs": [
    {
     "name": "stdout",
     "output_type": "stream",
     "text": [
      "(1, 80, 1)\n"
     ]
    }
   ],
   "source": [
    "inputs = np.reshape(inputs, (1, inputs.shape[0], 1))\n",
    "print(inputs.shape)"
   ]
  },
  {
   "cell_type": "code",
   "execution_count": 32,
   "metadata": {
    "colab": {
     "base_uri": "https://localhost:8080/",
     "height": 85
    },
    "colab_type": "code",
    "executionInfo": {
     "elapsed": 3245,
     "status": "ok",
     "timestamp": 1573826127208,
     "user": {
      "displayName": "Mohammad Reza Zerehpoosh",
      "photoUrl": "https://lh3.googleusercontent.com/a-/AAuE7mCIHt_7dMDRMiieX741C7Zjx4z8UrIoVCmcJxsThw=s64",
      "userId": "03345718987498507638"
     },
     "user_tz": -210
    },
    "id": "LbY_eru3TlRY",
    "outputId": "d61f9315-e5d2-49e9-c46f-04216ef4ac3f"
   },
   "outputs": [
    {
     "name": "stdout",
     "output_type": "stream",
     "text": [
      "             Price    Open    High     Low Change %\n",
      "Date                                               \n",
      "2019-04-01  0.7112  0.7113  0.7133  0.7101    0.21%\n",
      "0.717494\n"
     ]
    }
   ],
   "source": [
    "predicted_price = regressor.predict(inputs)\n",
    "predicted_price = sc.inverse_transform(predicted_price)\n",
    "print(data.iloc[uband: uband+1])\n",
    "print(predicted_price[0,0])"
   ]
  },
  {
   "cell_type": "code",
   "execution_count": 33,
   "metadata": {
    "colab": {
     "base_uri": "https://localhost:8080/",
     "height": 34
    },
    "colab_type": "code",
    "executionInfo": {
     "elapsed": 1509,
     "status": "ok",
     "timestamp": 1573826137750,
     "user": {
      "displayName": "Mohammad Reza Zerehpoosh",
      "photoUrl": "https://lh3.googleusercontent.com/a-/AAuE7mCIHt_7dMDRMiieX741C7Zjx4z8UrIoVCmcJxsThw=s64",
      "userId": "03345718987498507638"
     },
     "user_tz": -210
    },
    "id": "BQ5U72j4f8I6",
    "outputId": "d1c1d227-97da-4839-99b0-89991717d664"
   },
   "outputs": [
    {
     "data": {
      "text/plain": [
       "2933"
      ]
     },
     "execution_count": 33,
     "metadata": {
      "tags": []
     },
     "output_type": "execute_result"
    }
   ],
   "source": [
    "data_last_trained_row_index"
   ]
  },
  {
   "cell_type": "code",
   "execution_count": null,
   "metadata": {
    "colab": {},
    "colab_type": "code",
    "id": "dkESH-1aTlV7"
   },
   "outputs": [],
   "source": [
    "predicted_prices = []\n",
    "\n",
    "for i in range(0, 22):\n",
    "  lower_band = (data_last_trained_row_index + 1 - timesteps + i)\n",
    "  upper_band = (data_last_trained_row_index + 1 + i) \n",
    "  inputs = data.iloc[lower_band:upper_band, 0].values\n",
    "  inputs = inputs.reshape(-1, 1)\n",
    "  inputs = sc.transform(inputs)  \n",
    "  inputs = np.reshape(inputs, (1, inputs.shape[0], 1))  \n",
    "  pred_price = regressor.predict(inputs)  \n",
    "  predicted_prices.append(sc.inverse_transform(pred_price)[0, 0])\n",
    "  \n",
    "\n",
    "  \"\"\"\n",
    "  X_train_temp = data.iloc[lower_band+1:upper_band+1, 0].values\n",
    "  X_train_temp = X_train_temp.reshape(-1, 1)\n",
    "  X_train_temp = sc.transform(X_train_temp)\n",
    "  X_train_temp = np.array(X_train_temp)\n",
    "  X_train_temp = np.reshape(X_train_temp, (1, X_train_temp.shape[0], X_train_temp.shape[1]))\n",
    "  # print(X_train_temp.shape)\n",
    "\n",
    "  y_train_temp = data.iloc[upper_band+1, 0]\n",
    "  y_train_temp = y_train_temp.reshape(-1, 1)\n",
    "  y_train_temp = sc.transform(y_train_temp)\n",
    "  y_train_temp = np.array(y_train_temp)\n",
    "  # print(y_train_temp.shape)\n",
    "  \n",
    "  regressor.fit(x=X_train_temp, y=y_train_temp, epochs=10)\n",
    "  \"\"\""
   ]
  },
  {
   "cell_type": "code",
   "execution_count": 35,
   "metadata": {
    "colab": {
     "base_uri": "https://localhost:8080/",
     "height": 408
    },
    "colab_type": "code",
    "executionInfo": {
     "elapsed": 1804,
     "status": "ok",
     "timestamp": 1573826155422,
     "user": {
      "displayName": "Mohammad Reza Zerehpoosh",
      "photoUrl": "https://lh3.googleusercontent.com/a-/AAuE7mCIHt_7dMDRMiieX741C7Zjx4z8UrIoVCmcJxsThw=s64",
      "userId": "03345718987498507638"
     },
     "user_tz": -210
    },
    "id": "B-bV5M0NTlKe",
    "outputId": "5a59a6a2-ff34-4695-d145-52198f9d2de1"
   },
   "outputs": [
    {
     "name": "stdout",
     "output_type": "stream",
     "text": [
      "22\n"
     ]
    },
    {
     "data": {
      "text/plain": [
       "[0.717494,\n",
       " 0.7191657,\n",
       " 0.7173337,\n",
       " 0.7189231,\n",
       " 0.72001004,\n",
       " 0.72000897,\n",
       " 0.72133905,\n",
       " 0.7217743,\n",
       " 0.7252772,\n",
       " 0.72364855,\n",
       " 0.72569895,\n",
       " 0.7269896,\n",
       " 0.727447,\n",
       " 0.72767967,\n",
       " 0.72572964,\n",
       " 0.72475344,\n",
       " 0.7231142,\n",
       " 0.72006035,\n",
       " 0.7126314,\n",
       " 0.70870036,\n",
       " 0.70960677,\n",
       " 0.711671]"
      ]
     },
     "execution_count": 35,
     "metadata": {
      "tags": []
     },
     "output_type": "execute_result"
    }
   ],
   "source": [
    "print(len(predicted_prices))\n",
    "predicted_prices"
   ]
  },
  {
   "cell_type": "code",
   "execution_count": 38,
   "metadata": {
    "colab": {
     "base_uri": "https://localhost:8080/",
     "height": 85
    },
    "colab_type": "code",
    "executionInfo": {
     "elapsed": 1556,
     "status": "ok",
     "timestamp": 1573826225401,
     "user": {
      "displayName": "Mohammad Reza Zerehpoosh",
      "photoUrl": "https://lh3.googleusercontent.com/a-/AAuE7mCIHt_7dMDRMiieX741C7Zjx4z8UrIoVCmcJxsThw=s64",
      "userId": "03345718987498507638"
     },
     "user_tz": -210
    },
    "id": "YkIfZFirTlFW",
    "outputId": "5c32cbf8-2738-49a2-c654-7ea089947d66"
   },
   "outputs": [
    {
     "name": "stdout",
     "output_type": "stream",
     "text": [
      "22\n"
     ]
    },
    {
     "data": {
      "text/plain": [
       "array([0.7112, 0.7073, 0.7113, 0.7112, 0.7106, 0.7127, 0.7123, 0.7173,\n",
       "       0.7124, 0.7173, 0.7174, 0.7176, 0.7179, 0.7151, 0.7153, 0.7134,\n",
       "       0.7102, 0.7016, 0.7015, 0.704 , 0.7057, 0.7049])"
      ]
     },
     "execution_count": 38,
     "metadata": {
      "tags": []
     },
     "output_type": "execute_result"
    }
   ],
   "source": [
    "y_true = data.loc['2019-04-01':'2019-04-30', 'Price'].values\n",
    "print(len(y_true))\n",
    "y_true"
   ]
  },
  {
   "cell_type": "code",
   "execution_count": 49,
   "metadata": {
    "colab": {
     "base_uri": "https://localhost:8080/",
     "height": 458
    },
    "colab_type": "code",
    "executionInfo": {
     "elapsed": 2748,
     "status": "ok",
     "timestamp": 1573827084230,
     "user": {
      "displayName": "Mohammad Reza Zerehpoosh",
      "photoUrl": "https://lh3.googleusercontent.com/a-/AAuE7mCIHt_7dMDRMiieX741C7Zjx4z8UrIoVCmcJxsThw=s64",
      "userId": "03345718987498507638"
     },
     "user_tz": -210
    },
    "id": "cFM6Y6gJRl30",
    "outputId": "d12aa696-21a6-4233-df42-2ca78fa9562b"
   },
   "outputs": [
    {
     "data": {
      "image/png": "[encoded data removed]",
      "text/plain": [
       "<Figure size 864x504 with 1 Axes>"
      ]
     },
     "metadata": {
      "tags": []
     },
     "output_type": "display_data"
    }
   ],
   "source": [
    "plt.plot(y_true, color='blue', label='AUD/USD real trend')\n",
    "plt.plot(predicted_prices, color='magenta', label='AUD/USD predicted trend')\n",
    "plt.xlabel('Days')\n",
    "plt.ylabel('Price')\n",
    "plt.title('AUD/USD Trend Prediction for April, 2019')\n",
    "plt.legend()\n",
    "plt.show()\n",
    "\n",
    "#fname = '/content/drive/My Drive/Machine-Learning/Deep-Leraning_Learn/Time-Series-Analysis/AUDUSD-Trend-Prediction-April-2019.png'\n",
    "#plt.savefig(fname=fname)"
   ]
  },
  {
   "cell_type": "code",
   "execution_count": null,
   "metadata": {
    "colab": {},
    "colab_type": "code",
    "id": "NVTvHoMNaEd4"
   },
   "outputs": [],
   "source": [
    "def predict_audusd_trend(start_date, end_date):\n",
    "  y_true = data.loc[start_date:end_date, 'Price'].values\n",
    "  n_days = len(y_true)\n",
    "  last_row_index = len(data.loc['2008-01-01': start_date])\n",
    "\n",
    "  # Pridicting\n",
    "  predicted_prices = []\n",
    "  for i in range(0, n_days):\n",
    "    upper_band = (last_row_index - 1 + i) \n",
    "    lower_band = upper_band - timesteps\n",
    "    \n",
    "    inputs = data.iloc[lower_band:upper_band, 0].values\n",
    "    inputs = inputs.reshape(-1, 1)\n",
    "    inputs = sc.transform(inputs)  \n",
    "    inputs = np.reshape(inputs, (1, inputs.shape[0], 1))  \n",
    "    pred_price = regressor.predict(inputs)  \n",
    "    predicted_prices.append(sc.inverse_transform(pred_price)[0, 0])\n",
    "\n",
    "  # Plotting/Saving the figure\n",
    "  plt.plot(y_true, color='blue', label='AUD/USD real trend')\n",
    "  plt.plot(predicted_prices, color='magenta', label='AUD/USD predicted trend')\n",
    "  plt.xlabel('Days')\n",
    "  plt.ylabel('Price')\n",
    "  plt.title(f'AUD/USD Trend Prediction - {start_date} to {end_date}')\n",
    "  plt.legend()\n",
    "  fname = f'/content/drive/My Drive/Machine-Learning/Deep-Leraning_Learn/Time-Series-Analysis/AUDUSD-Trend-Prediction-{start_date}-to-{end_date}.png'\n",
    "  plt.savefig(fname=fname)\n",
    "  #plt.show()"
   ]
  },
  {
   "cell_type": "code",
   "execution_count": 64,
   "metadata": {
    "colab": {
     "base_uri": "https://localhost:8080/",
     "height": 458
    },
    "colab_type": "code",
    "executionInfo": {
     "elapsed": 38865,
     "status": "ok",
     "timestamp": 1573830420760,
     "user": {
      "displayName": "Mohammad Reza Zerehpoosh",
      "photoUrl": "https://lh3.googleusercontent.com/a-/AAuE7mCIHt_7dMDRMiieX741C7Zjx4z8UrIoVCmcJxsThw=s64",
      "userId": "03345718987498507638"
     },
     "user_tz": -210
    },
    "id": "hFX5NKibfCiK",
    "outputId": "1c3a1719-64aa-4017-d287-dbea37e56c5e"
   },
   "outputs": [
    {
     "data": {
      "image/png": "[encoded data removed]",
      "text/plain": [
       "<Figure size 864x504 with 1 Axes>"
      ]
     },
     "metadata": {
      "tags": []
     },
     "output_type": "display_data"
    }
   ],
   "source": [
    "predict_audusd_trend(start_date='2019-04-01', end_date='2019-10-15')"
   ]
  },
  {
   "cell_type": "code",
   "execution_count": 56,
   "metadata": {
    "colab": {
     "base_uri": "https://localhost:8080/",
     "height": 34
    },
    "colab_type": "code",
    "executionInfo": {
     "elapsed": 1815,
     "status": "ok",
     "timestamp": 1573827923965,
     "user": {
      "displayName": "Mohammad Reza Zerehpoosh",
      "photoUrl": "https://lh3.googleusercontent.com/a-/AAuE7mCIHt_7dMDRMiieX741C7Zjx4z8UrIoVCmcJxsThw=s64",
      "userId": "03345718987498507638"
     },
     "user_tz": -210
    },
    "id": "TKmfdCJzbidm",
    "outputId": "d9539fe0-e7a6-4fb5-be5b-18b92b646db6"
   },
   "outputs": [
    {
     "data": {
      "text/plain": [
       "2935"
      ]
     },
     "execution_count": 56,
     "metadata": {
      "tags": []
     },
     "output_type": "execute_result"
    }
   ],
   "source": [
    "len(data.loc['2008-01-01': '2019-04-01'])"
   ]
  },
  {
   "cell_type": "code",
   "execution_count": 60,
   "metadata": {
    "colab": {
     "base_uri": "https://localhost:8080/",
     "height": 119
    },
    "colab_type": "code",
    "executionInfo": {
     "elapsed": 1941,
     "status": "ok",
     "timestamp": 1573828009215,
     "user": {
      "displayName": "Mohammad Reza Zerehpoosh",
      "photoUrl": "https://lh3.googleusercontent.com/a-/AAuE7mCIHt_7dMDRMiieX741C7Zjx4z8UrIoVCmcJxsThw=s64",
      "userId": "03345718987498507638"
     },
     "user_tz": -210
    },
    "id": "6DfR-44UbuoJ",
    "outputId": "c326d4e9-c506-4bbd-c3d4-87ca61e09eef"
   },
   "outputs": [
    {
     "data": {
      "text/plain": [
       "Price       0.7097\n",
       "Open        0.7078\n",
       "High        0.7107\n",
       "Low         0.7073\n",
       "Change %     0.30%\n",
       "Name: 2019-03-29 00:00:00, dtype: object"
      ]
     },
     "execution_count": 60,
     "metadata": {
      "tags": []
     },
     "output_type": "execute_result"
    }
   ],
   "source": [
    "data.iloc[2935-2]"
   ]
  },
  {
   "cell_type": "code",
   "execution_count": 53,
   "metadata": {
    "colab": {
     "base_uri": "https://localhost:8080/",
     "height": 119
    },
    "colab_type": "code",
    "executionInfo": {
     "elapsed": 2526,
     "status": "ok",
     "timestamp": 1573827566055,
     "user": {
      "displayName": "Mohammad Reza Zerehpoosh",
      "photoUrl": "https://lh3.googleusercontent.com/a-/AAuE7mCIHt_7dMDRMiieX741C7Zjx4z8UrIoVCmcJxsThw=s64",
      "userId": "03345718987498507638"
     },
     "user_tz": -210
    },
    "id": "8wVT18SLaEcF",
    "outputId": "875fe57c-f3b9-479f-b775-47e7d2e29052"
   },
   "outputs": [
    {
     "data": {
      "text/plain": [
       "Price       0.7097\n",
       "Open        0.7078\n",
       "High        0.7107\n",
       "Low         0.7073\n",
       "Change %     0.30%\n",
       "Name: 2019-03-29 00:00:00, dtype: object"
      ]
     },
     "execution_count": 53,
     "metadata": {
      "tags": []
     },
     "output_type": "execute_result"
    }
   ],
   "source": [
    "data.loc['2019-03-29']"
   ]
  },
  {
   "cell_type": "code",
   "execution_count": null,
   "metadata": {
    "colab": {},
    "colab_type": "code",
    "id": "29MINxPdaEXu"
   },
   "outputs": [],
   "source": []
  },
  {
   "cell_type": "code",
   "execution_count": null,
   "metadata": {
    "colab": {},
    "colab_type": "code",
    "id": "XBRdP3uqaEWM"
   },
   "outputs": [],
   "source": []
  },
  {
   "cell_type": "code",
   "execution_count": null,
   "metadata": {
    "colab": {},
    "colab_type": "code",
    "id": "FjBrEUYRaESK"
   },
   "outputs": [],
   "source": []
  }
 ],
 "metadata": {
  "accelerator": "GPU",
  "colab": {
   "collapsed_sections": [],
   "name": "AUDUSD-Price-Prediction_RNN.ipynb",
   "provenance": []
  },
  "kernelspec": {
   "display_name": "Python 3",
   "language": "python",
   "name": "python3"
  },
  "language_info": {
   "codemirror_mode": {
    "name": "ipython",
    "version": 3
   },
   "file_extension": ".py",
   "mimetype": "text/x-python",
   "name": "python",
   "nbconvert_exporter": "python",
   "pygments_lexer": "ipython3",
   "version": "3.7.5"
  }
 },
 "nbformat": 4,
 "nbformat_minor": 4
}
